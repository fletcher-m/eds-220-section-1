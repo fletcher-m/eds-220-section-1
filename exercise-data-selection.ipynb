{
 "cells": [
  {
   "cell_type": "markdown",
   "id": "be2c0e28-ff50-494d-9572-3ffb939d2f02",
   "metadata": {},
   "source": [
    "The data documents various species and when and where they were spotted.\n",
    "\n",
    "Citation:\n",
    "\n",
    "Rachel King, Jenna Braun, Michael Westphal, & CJ Lortie. (2023). Compiled occurrence records for prey items of listed species found in California drylands with associated environmental data. Knowledge Network for Biocomplexity. doi:10.5063/F1VM49RH.\n",
    "\n",
    "Link:\n",
    "\n",
    "[prey items for endangered terrestrial vertebrate species within central California drylands (King et. al, 2023)]\n",
    " "
   ]
  }
 ],
 "metadata": {
  "kernelspec": {
   "display_name": "Python 3 (ipykernel)",
   "language": "python",
   "name": "python3"
  },
  "language_info": {
   "codemirror_mode": {
    "name": "ipython",
    "version": 3
   },
   "file_extension": ".py",
   "mimetype": "text/x-python",
   "name": "python",
   "nbconvert_exporter": "python",
   "pygments_lexer": "ipython3",
   "version": "3.7.13"
  }
 },
 "nbformat": 4,
 "nbformat_minor": 5
}
